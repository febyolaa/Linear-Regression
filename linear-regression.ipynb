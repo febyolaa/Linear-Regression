{
 "cells": [
  {
   "cell_type": "code",
   "execution_count": 1,
   "id": "fce7d074",
   "metadata": {
    "_cell_guid": "b1076dfc-b9ad-4769-8c92-a6c4dae69d19",
    "_uuid": "8f2839f25d086af736a60e9eeb907d3b93b6e0e5",
    "execution": {
     "iopub.execute_input": "2022-07-08T16:01:39.652690Z",
     "iopub.status.busy": "2022-07-08T16:01:39.651593Z",
     "iopub.status.idle": "2022-07-08T16:01:39.677344Z",
     "shell.execute_reply": "2022-07-08T16:01:39.678126Z",
     "shell.execute_reply.started": "2022-07-05T05:42:52.707322Z"
    },
    "papermill": {
     "duration": 0.041112,
     "end_time": "2022-07-08T16:01:39.678552",
     "exception": false,
     "start_time": "2022-07-08T16:01:39.637440",
     "status": "completed"
    },
    "tags": []
   },
   "outputs": [
    {
     "name": "stdout",
     "output_type": "stream",
     "text": [
      "/kaggle/input/data-bbni/DATA BBNI.csv\n"
     ]
    }
   ],
   "source": [
    "# This Python 3 environment comes with many helpful analytics libraries installed\n",
    "# It is defined by the kaggle/python Docker image: https://github.com/kaggle/docker-python\n",
    "# For example, here's several helpful packages to load\n",
    "\n",
    "import numpy as np # linear algebra\n",
    "import pandas as pd # data processing, CSV file I/O (e.g. pd.read_csv)\n",
    "\n",
    "# Input data files are available in the read-only \"../input/\" directory\n",
    "# For example, running this (by clicking run or pressing Shift+Enter) will list all files under the input directory\n",
    "\n",
    "import os\n",
    "for dirname, _, filenames in os.walk('/kaggle/input'):\n",
    "    for filename in filenames:\n",
    "        print(os.path.join(dirname, filename))\n",
    "\n",
    "# You can write up to 20GB to the current directory (/kaggle/working/) that gets preserved as output when you create a version using \"Save & Run All\" \n",
    "# You can also write temporary files to /kaggle/temp/, but they won't be saved outside of the current session"
   ]
  },
  {
   "cell_type": "code",
   "execution_count": 2,
   "id": "1d897b5a",
   "metadata": {
    "execution": {
     "iopub.execute_input": "2022-07-08T16:01:39.706971Z",
     "iopub.status.busy": "2022-07-08T16:01:39.705984Z",
     "iopub.status.idle": "2022-07-08T16:01:39.709581Z",
     "shell.execute_reply": "2022-07-08T16:01:39.710151Z",
     "shell.execute_reply.started": "2022-07-05T05:42:52.746149Z"
    },
    "papermill": {
     "duration": 0.018375,
     "end_time": "2022-07-08T16:01:39.710330",
     "exception": false,
     "start_time": "2022-07-08T16:01:39.691955",
     "status": "completed"
    },
    "tags": []
   },
   "outputs": [],
   "source": [
    "import numpy as np\n",
    "import pandas as pd"
   ]
  },
  {
   "cell_type": "code",
   "execution_count": 3,
   "id": "eb2d83c5",
   "metadata": {
    "execution": {
     "iopub.execute_input": "2022-07-08T16:01:39.745562Z",
     "iopub.status.busy": "2022-07-08T16:01:39.744846Z",
     "iopub.status.idle": "2022-07-08T16:01:39.776555Z",
     "shell.execute_reply": "2022-07-08T16:01:39.777321Z",
     "shell.execute_reply.started": "2022-07-05T05:42:52.752156Z"
    },
    "papermill": {
     "duration": 0.055087,
     "end_time": "2022-07-08T16:01:39.777581",
     "exception": false,
     "start_time": "2022-07-08T16:01:39.722494",
     "status": "completed"
    },
    "tags": []
   },
   "outputs": [
    {
     "data": {
      "text/html": [
       "<div>\n",
       "<style scoped>\n",
       "    .dataframe tbody tr th:only-of-type {\n",
       "        vertical-align: middle;\n",
       "    }\n",
       "\n",
       "    .dataframe tbody tr th {\n",
       "        vertical-align: top;\n",
       "    }\n",
       "\n",
       "    .dataframe thead th {\n",
       "        text-align: right;\n",
       "    }\n",
       "</style>\n",
       "<table border=\"1\" class=\"dataframe\">\n",
       "  <thead>\n",
       "    <tr style=\"text-align: right;\">\n",
       "      <th></th>\n",
       "      <th>JKSE</th>\n",
       "      <th>BBNI</th>\n",
       "    </tr>\n",
       "  </thead>\n",
       "  <tbody>\n",
       "    <tr>\n",
       "      <th>0</th>\n",
       "      <td>5995</td>\n",
       "      <td>5700</td>\n",
       "    </tr>\n",
       "    <tr>\n",
       "      <th>1</th>\n",
       "      <td>5947</td>\n",
       "      <td>5400</td>\n",
       "    </tr>\n",
       "    <tr>\n",
       "      <th>2</th>\n",
       "      <td>5985</td>\n",
       "      <td>4630</td>\n",
       "    </tr>\n",
       "    <tr>\n",
       "      <th>3</th>\n",
       "      <td>6070</td>\n",
       "      <td>4780</td>\n",
       "    </tr>\n",
       "    <tr>\n",
       "      <th>4</th>\n",
       "      <td>6150</td>\n",
       "      <td>5400</td>\n",
       "    </tr>\n",
       "  </tbody>\n",
       "</table>\n",
       "</div>"
      ],
      "text/plain": [
       "   JKSE  BBNI\n",
       "0  5995  5700\n",
       "1  5947  5400\n",
       "2  5985  4630\n",
       "3  6070  4780\n",
       "4  6150  5400"
      ]
     },
     "execution_count": 3,
     "metadata": {},
     "output_type": "execute_result"
    }
   ],
   "source": [
    "data = pd.read_csv('../input/data-bbni/DATA BBNI.csv')\n",
    "data.head()"
   ]
  },
  {
   "cell_type": "code",
   "execution_count": 4,
   "id": "30a7ddca",
   "metadata": {
    "execution": {
     "iopub.execute_input": "2022-07-08T16:01:39.808403Z",
     "iopub.status.busy": "2022-07-08T16:01:39.807434Z",
     "iopub.status.idle": "2022-07-08T16:01:39.812863Z",
     "shell.execute_reply": "2022-07-08T16:01:39.813430Z",
     "shell.execute_reply.started": "2022-07-05T05:42:52.786707Z"
    },
    "papermill": {
     "duration": 0.020237,
     "end_time": "2022-07-08T16:01:39.813604",
     "exception": false,
     "start_time": "2022-07-08T16:01:39.793367",
     "status": "completed"
    },
    "tags": []
   },
   "outputs": [
    {
     "name": "stdout",
     "output_type": "stream",
     "text": [
      "(12, 2)\n"
     ]
    }
   ],
   "source": [
    "print(data.shape)"
   ]
  },
  {
   "cell_type": "code",
   "execution_count": 5,
   "id": "dc0d66e5",
   "metadata": {
    "execution": {
     "iopub.execute_input": "2022-07-08T16:01:39.843762Z",
     "iopub.status.busy": "2022-07-08T16:01:39.842763Z",
     "iopub.status.idle": "2022-07-08T16:01:39.852568Z",
     "shell.execute_reply": "2022-07-08T16:01:39.853373Z",
     "shell.execute_reply.started": "2022-07-05T05:42:52.793099Z"
    },
    "papermill": {
     "duration": 0.027518,
     "end_time": "2022-07-08T16:01:39.853658",
     "exception": false,
     "start_time": "2022-07-08T16:01:39.826140",
     "status": "completed"
    },
    "tags": []
   },
   "outputs": [],
   "source": [
    "X = data['JKSE'].values\n",
    "Y = data['BBNI'].values"
   ]
  },
  {
   "cell_type": "code",
   "execution_count": 6,
   "id": "0ead3515",
   "metadata": {
    "execution": {
     "iopub.execute_input": "2022-07-08T16:01:39.886786Z",
     "iopub.status.busy": "2022-07-08T16:01:39.886042Z",
     "iopub.status.idle": "2022-07-08T16:01:39.895978Z",
     "shell.execute_reply": "2022-07-08T16:01:39.896581Z",
     "shell.execute_reply.started": "2022-07-05T05:42:52.808362Z"
    },
    "papermill": {
     "duration": 0.026078,
     "end_time": "2022-07-08T16:01:39.896810",
     "exception": false,
     "start_time": "2022-07-08T16:01:39.870732",
     "status": "completed"
    },
    "tags": []
   },
   "outputs": [
    {
     "name": "stdout",
     "output_type": "stream",
     "text": [
      "3.2673154833877485 -14575.192208151566\n"
     ]
    }
   ],
   "source": [
    "#Mean X and Y\n",
    "mean_x = np.mean(X)\n",
    "mean_y = np.mean(Y)\n",
    "\n",
    "#Total number of values\n",
    "m = len(X)\n",
    "\n",
    "#using the formula to calculate b1 and b2\n",
    "numer = 0\n",
    "denom = 0\n",
    "for i in range(m):\n",
    "    numer += (X[i] - mean_x) * (Y[i]- mean_y)\n",
    "    denom += (X[i] - mean_x) ** 2\n",
    "b1 = numer/denom\n",
    "b0 = mean_y - (b1 * mean_x)\n",
    "\n",
    "#Print coefficients\n",
    "print(b1,b0)"
   ]
  },
  {
   "cell_type": "code",
   "execution_count": 7,
   "id": "e5173b13",
   "metadata": {
    "execution": {
     "iopub.execute_input": "2022-07-08T16:01:39.930563Z",
     "iopub.status.busy": "2022-07-08T16:01:39.929734Z",
     "iopub.status.idle": "2022-07-08T16:01:39.932035Z",
     "shell.execute_reply": "2022-07-08T16:01:39.932647Z",
     "shell.execute_reply.started": "2022-07-05T05:42:52.8204Z"
    },
    "papermill": {
     "duration": 0.024752,
     "end_time": "2022-07-08T16:01:39.932883",
     "exception": false,
     "start_time": "2022-07-08T16:01:39.908131",
     "status": "completed"
    },
    "tags": []
   },
   "outputs": [],
   "source": [
    "%matplotlib inline\n",
    "import matplotlib.pyplot as plt\n",
    "plt.rcParams['figure.figsize'] = (20.0, 10.0)"
   ]
  },
  {
   "cell_type": "code",
   "execution_count": 8,
   "id": "b8f2c261",
   "metadata": {
    "execution": {
     "iopub.execute_input": "2022-07-08T16:01:39.967790Z",
     "iopub.status.busy": "2022-07-08T16:01:39.965347Z",
     "iopub.status.idle": "2022-07-08T16:01:40.317098Z",
     "shell.execute_reply": "2022-07-08T16:01:40.317854Z",
     "shell.execute_reply.started": "2022-07-05T05:42:52.833654Z"
    },
    "papermill": {
     "duration": 0.37298,
     "end_time": "2022-07-08T16:01:40.318089",
     "exception": false,
     "start_time": "2022-07-08T16:01:39.945109",
     "status": "completed"
    },
    "tags": []
   },
   "outputs": [
    {
     "data": {
      "image/png": "[encoded data removed]",
      "text/plain": [
       "<Figure size 1440x720 with 1 Axes>"
      ]
     },
     "metadata": {
      "needs_background": "light"
     },
     "output_type": "display_data"
    }
   ],
   "source": [
    "#Plotting values and regression line\n",
    "max_x = np.max(X) + 100\n",
    "min_x = np.min(X) - 100\n",
    "\n",
    "#Calculating line values x and y\n",
    "x = np.linspace(min_x, max_x, 1000)\n",
    "y = b0 + b1 * x\n",
    "\n",
    "#Ploting line\n",
    "plt.plot(x,y, color='#58b970', label = 'Regression Line')\n",
    "\n",
    "#PLoting Scatter Points\n",
    "plt.scatter(X,Y, c='#ef5423', label='Scatter PLot')\n",
    "\n",
    "plt.xlabel('JKSE')\n",
    "plt.ylabel('BBNI')\n",
    "plt.legend()\n",
    "plt.show()"
   ]
  },
  {
   "cell_type": "code",
   "execution_count": 9,
   "id": "550b1b2d",
   "metadata": {
    "execution": {
     "iopub.execute_input": "2022-07-08T16:01:40.347247Z",
     "iopub.status.busy": "2022-07-08T16:01:40.346561Z",
     "iopub.status.idle": "2022-07-08T16:01:40.354735Z",
     "shell.execute_reply": "2022-07-08T16:01:40.355379Z",
     "shell.execute_reply.started": "2022-07-05T05:42:53.178441Z"
    },
    "papermill": {
     "duration": 0.024308,
     "end_time": "2022-07-08T16:01:40.355622",
     "exception": false,
     "start_time": "2022-07-08T16:01:40.331314",
     "status": "completed"
    },
    "tags": []
   },
   "outputs": [
    {
     "name": "stdout",
     "output_type": "stream",
     "text": [
      "0.904667595239082\n"
     ]
    }
   ],
   "source": [
    "ss_t = 0\n",
    "ss_r = 0\n",
    "for i in range(m):\n",
    "    y_pred = b0 + b1 * X[i]\n",
    "    ss_t += (Y[i] - mean_y) ** 2\n",
    "    ss_r += (Y[i] - y_pred) ** 2\n",
    "r2 = 1 - (ss_r/ss_t)\n",
    "print(r2)"
   ]
  },
  {
   "cell_type": "code",
   "execution_count": null,
   "id": "d8c82dc4",
   "metadata": {
    "papermill": {
     "duration": 0.012429,
     "end_time": "2022-07-08T16:01:40.381664",
     "exception": false,
     "start_time": "2022-07-08T16:01:40.369235",
     "status": "completed"
    },
    "tags": []
   },
   "outputs": [],
   "source": []
  },
  {
   "cell_type": "code",
   "execution_count": null,
   "id": "64a817da",
   "metadata": {
    "papermill": {
     "duration": 0.011944,
     "end_time": "2022-07-08T16:01:40.406062",
     "exception": false,
     "start_time": "2022-07-08T16:01:40.394118",
     "status": "completed"
    },
    "tags": []
   },
   "outputs": [],
   "source": []
  }
 ],
 "metadata": {
  "kernelspec": {
   "display_name": "Python 3",
   "language": "python",
   "name": "python3"
  },
  "language_info": {
   "codemirror_mode": {
    "name": "ipython",
    "version": 3
   },
   "file_extension": ".py",
   "mimetype": "text/x-python",
   "name": "python",
   "nbconvert_exporter": "python",
   "pygments_lexer": "ipython3",
   "version": "3.7.12"
  },
  "papermill": {
   "default_parameters": {},
   "duration": 12.660168,
   "end_time": "2022-07-08T16:01:41.335433",
   "environment_variables": {},
   "exception": null,
   "input_path": "__notebook__.ipynb",
   "output_path": "__notebook__.ipynb",
   "parameters": {},
   "start_time": "2022-07-08T16:01:28.675265",
   "version": "2.3.3"
  }
 },
 "nbformat": 4,
 "nbformat_minor": 5
}
